{
 "cells": [
  {
   "cell_type": "code",
   "execution_count": 5,
   "id": "99eb5768",
   "metadata": {},
   "outputs": [],
   "source": [
    "import PySimpleGUI as sg"
   ]
  },
  {
   "cell_type": "code",
   "execution_count": 6,
   "id": "bf4e4f5b",
   "metadata": {},
   "outputs": [],
   "source": [
    "# Define o conteudo da janela/ window\n",
    "layout = [[sg.Text(\"Qual o seu nome?\")],\n",
    "         [sg.Input(key ='-INPUT-')],\n",
    "         [sg.Text(size =(40,1), key='-OUTPUT-')],\n",
    "         [sg.Button('OK'),sg.Button('Log off')]]"
   ]
  },
  {
   "cell_type": "code",
   "execution_count": 7,
   "id": "487f6c3f",
   "metadata": {},
   "outputs": [],
   "source": [
    "# Criando a Janela / create the window\n",
    "window = sg.Window('Cadastro Inicial',layout)"
   ]
  },
  {
   "cell_type": "code",
   "execution_count": 8,
   "id": "59fbbc29",
   "metadata": {},
   "outputs": [],
   "source": [
    "# Display and interact with the window using Event Loop\n",
    "while True:\n",
    "    event,values = window.read()\n",
    "\n",
    "    #Veja se usuario deseja SAIR ou Window was closed\n",
    "    \n",
    "    if event == sg.WINDOW_CLOSED or event == 'Log off':\n",
    "        break\n",
    "        \n",
    "    #Mensagem de Log off\n",
    "    \n",
    "    window['-OUTPUT-'].update('Hello'+ values['-INPUT-']+ \"! Obrigado\")"
   ]
  },
  {
   "cell_type": "markdown",
   "id": "a70a80bc",
   "metadata": {},
   "source": [
    "#Finish up by removing from the screen\n",
    "         window.close()"
   ]
  },
  {
   "cell_type": "code",
   "execution_count": null,
   "id": "708151a8",
   "metadata": {},
   "outputs": [],
   "source": []
  }
 ],
 "metadata": {
  "kernelspec": {
   "display_name": "Python 3 (ipykernel)",
   "language": "python",
   "name": "python3"
  },
  "language_info": {
   "codemirror_mode": {
    "name": "ipython",
    "version": 3
   },
   "file_extension": ".py",
   "mimetype": "text/x-python",
   "name": "python",
   "nbconvert_exporter": "python",
   "pygments_lexer": "ipython3",
   "version": "3.9.12"
  }
 },
 "nbformat": 4,
 "nbformat_minor": 5
}
